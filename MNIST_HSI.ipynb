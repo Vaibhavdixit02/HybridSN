{
 "cells": [
  {
   "cell_type": "code",
   "execution_count": 12,
   "metadata": {},
   "outputs": [
    {
     "data": {
      "text/html": [
       "        <script type=\"text/javascript\">\n",
       "        window.PlotlyConfig = {MathJaxConfig: 'local'};\n",
       "        if (window.MathJax) {MathJax.Hub.Config({SVG: {font: \"STIX-Web\"}});}\n",
       "        if (typeof require !== 'undefined') {\n",
       "        require.undef(\"plotly\");\n",
       "        requirejs.config({\n",
       "            paths: {\n",
       "                'plotly': ['https://cdn.plot.ly/plotly-latest.min']\n",
       "            }\n",
       "        });\n",
       "        require(['plotly'], function(Plotly) {\n",
       "            window._Plotly = Plotly;\n",
       "        });\n",
       "        }\n",
       "        </script>\n",
       "        "
      ]
     },
     "metadata": {},
     "output_type": "display_data"
    }
   ],
   "source": [
    "import keras\n",
    "from keras.layers import Conv2D, Conv3D, Flatten, Dense, Reshape, BatchNormalization\n",
    "from keras.layers import Dropout, Input\n",
    "from keras.models import Model\n",
    "from keras.optimizers import Adam\n",
    "from keras.callbacks import ModelCheckpoint\n",
    "from keras.utils import np_utils\n",
    "\n",
    "from sklearn.decomposition import PCA\n",
    "from sklearn.model_selection import train_test_split\n",
    "from sklearn.metrics import confusion_matrix, accuracy_score, classification_report, cohen_kappa_score\n",
    "\n",
    "from operator import truediv\n",
    "\n",
    "from plotly.offline import init_notebook_mode\n",
    "\n",
    "import numpy as np\n",
    "import matplotlib.pyplot as plt\n",
    "import scipy.io as sio\n",
    "import os\n",
    "import spectral\n",
    "\n",
    "init_notebook_mode(connected=True)\n",
    "%matplotlib inline"
   ]
  },
  {
   "cell_type": "code",
   "execution_count": 13,
   "metadata": {},
   "outputs": [],
   "source": [
    "import keras\n",
    "from keras.datasets import mnist\n",
    "from keras.models import Sequential\n",
    "from keras.layers import Dense, Dropout, Flatten\n",
    "from keras.layers import Conv2D, MaxPooling2D"
   ]
  },
  {
   "cell_type": "markdown",
   "metadata": {},
   "source": [
    "# Data Loading"
   ]
  },
  {
   "cell_type": "code",
   "execution_count": 25,
   "metadata": {},
   "outputs": [],
   "source": [
    "## GLOBAL VARIABLES\n",
    "dataset = 'IP'\n",
    "test_ratio = 0.7\n",
    "windowSize = 25"
   ]
  },
  {
   "cell_type": "code",
   "execution_count": 26,
   "metadata": {},
   "outputs": [],
   "source": [
    "def loadData(name):\n",
    "    data_path = os.path.join(os.getcwd(),'data')\n",
    "    if name == 'IP':\n",
    "        data = sio.loadmat(os.path.join(data_path, 'Indian_pines_corrected.mat'))['indian_pines_corrected']\n",
    "        labels = sio.loadmat(os.path.join(data_path, 'Indian_pines_gt.mat'))['indian_pines_gt']\n",
    "    elif name == 'SA':\n",
    "        data = sio.loadmat(os.path.join(data_path, 'Salinas_corrected.mat'))['salinas_corrected']\n",
    "        labels = sio.loadmat(os.path.join(data_path, 'Salinas_gt.mat'))['salinas_gt']\n",
    "    elif name == 'PU':\n",
    "        data = sio.loadmat(os.path.join(data_path, 'PaviaU.mat'))['paviaU']\n",
    "        labels = sio.loadmat(os.path.join(data_path, 'PaviaU_gt.mat'))['paviaU_gt']\n",
    "    \n",
    "    return data, labels"
   ]
  },
  {
   "cell_type": "code",
   "execution_count": 27,
   "metadata": {},
   "outputs": [],
   "source": [
    "def splitTrainTestSet(X, y, testRatio, randomState=345):\n",
    "    X_train, X_test, y_train, y_test = train_test_split(X, y, test_size=testRatio, random_state=randomState,\n",
    "                                                        stratify=y)\n",
    "    return X_train, X_test, y_train, y_test"
   ]
  },
  {
   "cell_type": "code",
   "execution_count": 28,
   "metadata": {},
   "outputs": [],
   "source": [
    "def applyPCA(X, numComponents=75):\n",
    "    newX = np.reshape(X, (-1, X.shape[2]))\n",
    "    pca = PCA(n_components=numComponents, whiten=True)\n",
    "    newX = pca.fit_transform(newX)\n",
    "    newX = np.reshape(newX, (X.shape[0],X.shape[1], numComponents))\n",
    "    return newX, pca"
   ]
  },
  {
   "cell_type": "code",
   "execution_count": 29,
   "metadata": {},
   "outputs": [],
   "source": [
    "def padWithZeros(X, margin=2):\n",
    "    newX = np.zeros((X.shape[0] + 2 * margin, X.shape[1] + 2* margin, X.shape[2]))\n",
    "    x_offset = margin\n",
    "    y_offset = margin\n",
    "    newX[x_offset:X.shape[0] + x_offset, y_offset:X.shape[1] + y_offset, :] = X\n",
    "    return newX"
   ]
  },
  {
   "cell_type": "code",
   "execution_count": 30,
   "metadata": {},
   "outputs": [],
   "source": [
    "def createImageCubes(X, y, windowSize=5, removeZeroLabels = True):\n",
    "    margin = int((windowSize - 1) / 2)\n",
    "    zeroPaddedX = padWithZeros(X, margin=margin)\n",
    "    # split patches\n",
    "    patchesData = np.zeros((X.shape[0] * X.shape[1], windowSize, windowSize, X.shape[2]))\n",
    "    patchesLabels = np.zeros((X.shape[0] * X.shape[1]))\n",
    "    patchIndex = 0\n",
    "    for r in range(margin, zeroPaddedX.shape[0] - margin):\n",
    "        for c in range(margin, zeroPaddedX.shape[1] - margin):\n",
    "            patch = zeroPaddedX[r - margin:r + margin + 1, c - margin:c + margin + 1]   \n",
    "            patchesData[patchIndex, :, :, :] = patch\n",
    "            patchesLabels[patchIndex] = y[r-margin, c-margin]\n",
    "            patchIndex = patchIndex + 1\n",
    "    if removeZeroLabels:\n",
    "        patchesData = patchesData[patchesLabels>0,:,:,:]\n",
    "        patchesLabels = patchesLabels[patchesLabels>0]\n",
    "        patchesLabels -= 1\n",
    "    return patchesData, patchesLabels"
   ]
  },
  {
   "cell_type": "code",
   "execution_count": 31,
   "metadata": {},
   "outputs": [
    {
     "ename": "NameError",
     "evalue": "name 'patchesLabels' is not defined",
     "output_type": "error",
     "traceback": [
      "\u001b[0;31m---------------------------------------------------------------------------\u001b[0m",
      "\u001b[0;31mNameError\u001b[0m                                 Traceback (most recent call last)",
      "\u001b[0;32m<ipython-input-31-3cbd07ebb45f>\u001b[0m in \u001b[0;36m<module>\u001b[0;34m\u001b[0m\n\u001b[0;32m----> 1\u001b[0;31m \u001b[0mpatchesLabels\u001b[0m\u001b[0;34m.\u001b[0m\u001b[0mshape\u001b[0m\u001b[0;34m\u001b[0m\u001b[0;34m\u001b[0m\u001b[0m\n\u001b[0m",
      "\u001b[0;31mNameError\u001b[0m: name 'patchesLabels' is not defined"
     ]
    }
   ],
   "source": [
    "patchesLabels.shape"
   ]
  },
  {
   "cell_type": "code",
   "execution_count": 32,
   "metadata": {},
   "outputs": [
    {
     "ename": "NameError",
     "evalue": "name 'patchesData' is not defined",
     "output_type": "error",
     "traceback": [
      "\u001b[0;31m---------------------------------------------------------------------------\u001b[0m",
      "\u001b[0;31mNameError\u001b[0m                                 Traceback (most recent call last)",
      "\u001b[0;32m<ipython-input-32-43981090a331>\u001b[0m in \u001b[0;36m<module>\u001b[0;34m\u001b[0m\n\u001b[0;32m----> 1\u001b[0;31m \u001b[0mpatchesData\u001b[0m\u001b[0;34m.\u001b[0m\u001b[0mshape\u001b[0m\u001b[0;34m\u001b[0m\u001b[0;34m\u001b[0m\u001b[0m\n\u001b[0m",
      "\u001b[0;31mNameError\u001b[0m: name 'patchesData' is not defined"
     ]
    }
   ],
   "source": [
    "patchesData.shape"
   ]
  },
  {
   "cell_type": "code",
   "execution_count": 33,
   "metadata": {
    "scrolled": true
   },
   "outputs": [
    {
     "data": {
      "text/plain": [
       "((145, 145, 200), (145, 145))"
      ]
     },
     "execution_count": 33,
     "metadata": {},
     "output_type": "execute_result"
    }
   ],
   "source": [
    "X, y = loadData(dataset)\n",
    "\n",
    "X.shape, y.shape"
   ]
  },
  {
   "cell_type": "code",
   "execution_count": 34,
   "metadata": {},
   "outputs": [],
   "source": [
    "K = X.shape[2]"
   ]
  },
  {
   "cell_type": "code",
   "execution_count": 35,
   "metadata": {},
   "outputs": [
    {
     "data": {
      "text/plain": [
       "(145, 145, 3)"
      ]
     },
     "execution_count": 35,
     "metadata": {},
     "output_type": "execute_result"
    }
   ],
   "source": [
    "K = 30 if dataset == 'IP' else 15\n",
    "X,pca = applyPCA(X,numComponents=3)\n",
    "\n",
    "X.shape"
   ]
  },
  {
   "cell_type": "code",
   "execution_count": 36,
   "metadata": {},
   "outputs": [
    {
     "data": {
      "text/plain": [
       "((10249, 25, 25, 3), (10249,))"
      ]
     },
     "execution_count": 36,
     "metadata": {},
     "output_type": "execute_result"
    }
   ],
   "source": [
    "X, y = createImageCubes(X, y, windowSize=windowSize)\n",
    "\n",
    "X.shape, y.shape"
   ]
  },
  {
   "cell_type": "code",
   "execution_count": 32,
   "metadata": {},
   "outputs": [
    {
     "data": {
      "text/plain": [
       "21025"
      ]
     },
     "execution_count": 32,
     "metadata": {},
     "output_type": "execute_result"
    }
   ],
   "source": [
    "145*145"
   ]
  },
  {
   "cell_type": "code",
   "execution_count": 37,
   "metadata": {},
   "outputs": [
    {
     "data": {
      "text/plain": [
       "((3074, 25, 25, 3), (7175, 25, 25, 3), (3074,), (7175,))"
      ]
     },
     "execution_count": 37,
     "metadata": {},
     "output_type": "execute_result"
    }
   ],
   "source": [
    "Xtrain, Xtest, ytrain, ytest = splitTrainTestSet(X, y, test_ratio)\n",
    "\n",
    "Xtrain.shape, Xtest.shape, ytrain.shape, ytest.shape"
   ]
  },
  {
   "cell_type": "markdown",
   "metadata": {},
   "source": [
    "Xtrain, Xvalid, ytrain, yvalid = splitTrainTestSet(Xtrain, ytrain, 0.3333)\n",
    "\n",
    "Xtrain.shape, Xvalid.shape, ytrain.shape, yvalid.shape"
   ]
  },
  {
   "cell_type": "markdown",
   "metadata": {},
   "source": [
    "# Model and Training"
   ]
  },
  {
   "cell_type": "markdown",
   "metadata": {},
   "source": [
    "Xtrain = Xtrain.reshape(-1, windowSize, windowSize, K, 1)\n",
    "Xtrain.shape"
   ]
  },
  {
   "cell_type": "code",
   "execution_count": 38,
   "metadata": {},
   "outputs": [
    {
     "data": {
      "text/plain": [
       "(3074, 16)"
      ]
     },
     "execution_count": 38,
     "metadata": {},
     "output_type": "execute_result"
    }
   ],
   "source": [
    "ytrain = np_utils.to_categorical(ytrain)\n",
    "ytrain.shape"
   ]
  },
  {
   "cell_type": "code",
   "execution_count": 36,
   "metadata": {},
   "outputs": [],
   "source": [
    "S = windowSize\n",
    "L = K\n",
    "output_units = 9 if (dataset == 'PU' or dataset == 'PC') else 16"
   ]
  },
  {
   "cell_type": "code",
   "execution_count": 41,
   "metadata": {},
   "outputs": [],
   "source": [
    "num_classes = 16\n",
    "input_shape = (25, 25, 3)"
   ]
  },
  {
   "cell_type": "code",
   "execution_count": 42,
   "metadata": {},
   "outputs": [
    {
     "name": "stdout",
     "output_type": "stream",
     "text": [
      "WARNING:tensorflow:From /Users/vaibhav/anaconda3/lib/python3.7/site-packages/keras/backend/tensorflow_backend.py:4070: The name tf.nn.max_pool is deprecated. Please use tf.nn.max_pool2d instead.\n",
      "\n"
     ]
    }
   ],
   "source": [
    "## input layer\n",
    "model = Sequential()\n",
    "model.add(Conv2D(32, kernel_size=(3, 3),\n",
    "                 activation='relu',\n",
    "                 input_shape=input_shape))\n",
    "model.add(Conv2D(64, (3, 3), activation='relu'))\n",
    "model.add(MaxPooling2D(pool_size=(2, 2)))\n",
    "model.add(Dropout(0.25))\n",
    "model.add(Flatten())\n",
    "model.add(Dense(128, activation='relu'))\n",
    "model.add(Dropout(0.5))\n",
    "model.add(Dense(num_classes, activation='softmax'))"
   ]
  },
  {
   "cell_type": "code",
   "execution_count": null,
   "metadata": {},
   "outputs": [],
   "source": []
  },
  {
   "cell_type": "markdown",
   "metadata": {},
   "source": [
    "# define the model with input layer and output layer\n",
    "model = Model(inputs=input_layer, outputs=output_layer)"
   ]
  },
  {
   "cell_type": "code",
   "execution_count": 43,
   "metadata": {},
   "outputs": [
    {
     "name": "stdout",
     "output_type": "stream",
     "text": [
      "Model: \"sequential_2\"\n",
      "_________________________________________________________________\n",
      "Layer (type)                 Output Shape              Param #   \n",
      "=================================================================\n",
      "conv2d_1 (Conv2D)            (None, 23, 23, 32)        896       \n",
      "_________________________________________________________________\n",
      "conv2d_2 (Conv2D)            (None, 21, 21, 64)        18496     \n",
      "_________________________________________________________________\n",
      "max_pooling2d_1 (MaxPooling2 (None, 10, 10, 64)        0         \n",
      "_________________________________________________________________\n",
      "dropout_1 (Dropout)          (None, 10, 10, 64)        0         \n",
      "_________________________________________________________________\n",
      "flatten_1 (Flatten)          (None, 6400)              0         \n",
      "_________________________________________________________________\n",
      "dense_1 (Dense)              (None, 128)               819328    \n",
      "_________________________________________________________________\n",
      "dropout_2 (Dropout)          (None, 128)               0         \n",
      "_________________________________________________________________\n",
      "dense_2 (Dense)              (None, 16)                2064      \n",
      "=================================================================\n",
      "Total params: 840,784\n",
      "Trainable params: 840,784\n",
      "Non-trainable params: 0\n",
      "_________________________________________________________________\n"
     ]
    }
   ],
   "source": [
    "model.summary()"
   ]
  },
  {
   "cell_type": "code",
   "execution_count": 44,
   "metadata": {},
   "outputs": [],
   "source": [
    "# compiling the model\n",
    "adam = Adam(lr=0.001, decay=1e-06)\n",
    "model.compile(loss='categorical_crossentropy', optimizer=adam, metrics=['accuracy'])"
   ]
  },
  {
   "cell_type": "code",
   "execution_count": 45,
   "metadata": {},
   "outputs": [],
   "source": [
    "# checkpoint\n",
    "filepath = \"mnist_cnn.hdf5\"\n",
    "checkpoint = ModelCheckpoint(filepath, monitor='accuracy', verbose=1, save_best_only=True, mode='max')\n",
    "callbacks_list = [checkpoint]"
   ]
  },
  {
   "cell_type": "code",
   "execution_count": 46,
   "metadata": {
    "scrolled": false
   },
   "outputs": [
    {
     "name": "stdout",
     "output_type": "stream",
     "text": [
      "WARNING:tensorflow:From /Users/vaibhav/anaconda3/lib/python3.7/site-packages/keras/backend/tensorflow_backend.py:422: The name tf.global_variables is deprecated. Please use tf.compat.v1.global_variables instead.\n",
      "\n",
      "Epoch 1/100\n",
      "3074/3074 [==============================] - 3s 899us/step - loss: 1.8387 - accuracy: 0.4122\n",
      "\n",
      "Epoch 00001: accuracy improved from -inf to 0.41217, saving model to mnist_cnn.hdf5\n",
      "Epoch 2/100\n",
      "3074/3074 [==============================] - 3s 830us/step - loss: 1.0652 - accuracy: 0.6366\n",
      "\n",
      "Epoch 00002: accuracy improved from 0.41217 to 0.63663, saving model to mnist_cnn.hdf5\n",
      "Epoch 3/100\n",
      "3074/3074 [==============================] - 3s 818us/step - loss: 0.7274 - accuracy: 0.7515\n",
      "\n",
      "Epoch 00003: accuracy improved from 0.63663 to 0.75146, saving model to mnist_cnn.hdf5\n",
      "Epoch 4/100\n",
      "3074/3074 [==============================] - 2s 738us/step - loss: 0.5448 - accuracy: 0.8295\n",
      "\n",
      "Epoch 00004: accuracy improved from 0.75146 to 0.82954, saving model to mnist_cnn.hdf5\n",
      "Epoch 5/100\n",
      "3074/3074 [==============================] - 2s 714us/step - loss: 0.4347 - accuracy: 0.8565\n",
      "\n",
      "Epoch 00005: accuracy improved from 0.82954 to 0.85654, saving model to mnist_cnn.hdf5\n",
      "Epoch 6/100\n",
      "3074/3074 [==============================] - 2s 792us/step - loss: 0.3580 - accuracy: 0.8819\n",
      "\n",
      "Epoch 00006: accuracy improved from 0.85654 to 0.88191, saving model to mnist_cnn.hdf5\n",
      "Epoch 7/100\n",
      "3074/3074 [==============================] - 2s 773us/step - loss: 0.3123 - accuracy: 0.8956\n",
      "\n",
      "Epoch 00007: accuracy improved from 0.88191 to 0.89558, saving model to mnist_cnn.hdf5\n",
      "Epoch 8/100\n",
      "3074/3074 [==============================] - 2s 716us/step - loss: 0.2297 - accuracy: 0.9356\n",
      "\n",
      "Epoch 00008: accuracy improved from 0.89558 to 0.93559, saving model to mnist_cnn.hdf5\n",
      "Epoch 9/100\n",
      "3074/3074 [==============================] - 2s 719us/step - loss: 0.2365 - accuracy: 0.9229\n",
      "\n",
      "Epoch 00009: accuracy did not improve from 0.93559\n",
      "Epoch 10/100\n",
      "3074/3074 [==============================] - 2s 784us/step - loss: 0.1756 - accuracy: 0.9453\n",
      "\n",
      "Epoch 00010: accuracy improved from 0.93559 to 0.94535, saving model to mnist_cnn.hdf5\n",
      "Epoch 11/100\n",
      "3074/3074 [==============================] - 3s 846us/step - loss: 0.1376 - accuracy: 0.9571\n",
      "\n",
      "Epoch 00011: accuracy improved from 0.94535 to 0.95706, saving model to mnist_cnn.hdf5\n",
      "Epoch 12/100\n",
      "3074/3074 [==============================] - 2s 777us/step - loss: 0.1209 - accuracy: 0.9610\n",
      "\n",
      "Epoch 00012: accuracy improved from 0.95706 to 0.96096, saving model to mnist_cnn.hdf5\n",
      "Epoch 13/100\n",
      "3074/3074 [==============================] - 2s 754us/step - loss: 0.1034 - accuracy: 0.9701\n",
      "\n",
      "Epoch 00013: accuracy improved from 0.96096 to 0.97007, saving model to mnist_cnn.hdf5\n",
      "Epoch 14/100\n",
      "3074/3074 [==============================] - 2s 775us/step - loss: 0.0868 - accuracy: 0.9733\n",
      "\n",
      "Epoch 00014: accuracy improved from 0.97007 to 0.97332, saving model to mnist_cnn.hdf5\n",
      "Epoch 15/100\n",
      "3074/3074 [==============================] - 2s 782us/step - loss: 0.0723 - accuracy: 0.9789\n",
      "\n",
      "Epoch 00015: accuracy improved from 0.97332 to 0.97885, saving model to mnist_cnn.hdf5\n",
      "Epoch 16/100\n",
      "3074/3074 [==============================] - 3s 885us/step - loss: 0.0616 - accuracy: 0.9837\n",
      "\n",
      "Epoch 00016: accuracy improved from 0.97885 to 0.98373, saving model to mnist_cnn.hdf5\n",
      "Epoch 17/100\n",
      "3074/3074 [==============================] - 3s 864us/step - loss: 0.2352 - accuracy: 0.9268\n",
      "\n",
      "Epoch 00017: accuracy did not improve from 0.98373\n",
      "Epoch 18/100\n",
      "3074/3074 [==============================] - 2s 721us/step - loss: 0.1170 - accuracy: 0.9665\n",
      "\n",
      "Epoch 00018: accuracy did not improve from 0.98373\n",
      "Epoch 19/100\n",
      "3074/3074 [==============================] - 2s 721us/step - loss: 0.0764 - accuracy: 0.9811\n",
      "\n",
      "Epoch 00019: accuracy did not improve from 0.98373\n",
      "Epoch 20/100\n",
      "3074/3074 [==============================] - 2s 737us/step - loss: 0.0707 - accuracy: 0.9766\n",
      "\n",
      "Epoch 00020: accuracy did not improve from 0.98373\n",
      "Epoch 21/100\n",
      "3074/3074 [==============================] - 2s 748us/step - loss: 0.0571 - accuracy: 0.9818\n",
      "\n",
      "Epoch 00021: accuracy did not improve from 0.98373\n",
      "Epoch 22/100\n",
      "3074/3074 [==============================] - 2s 781us/step - loss: 0.0583 - accuracy: 0.9795\n",
      "\n",
      "Epoch 00022: accuracy did not improve from 0.98373\n",
      "Epoch 23/100\n",
      "3074/3074 [==============================] - 2s 776us/step - loss: 0.0486 - accuracy: 0.9847\n",
      "\n",
      "Epoch 00023: accuracy improved from 0.98373 to 0.98471, saving model to mnist_cnn.hdf5\n",
      "Epoch 24/100\n",
      "3074/3074 [==============================] - 2s 752us/step - loss: 0.0443 - accuracy: 0.9857\n",
      "\n",
      "Epoch 00024: accuracy improved from 0.98471 to 0.98569, saving model to mnist_cnn.hdf5\n",
      "Epoch 25/100\n",
      "3074/3074 [==============================] - 2s 765us/step - loss: 0.0385 - accuracy: 0.9889\n",
      "\n",
      "Epoch 00025: accuracy improved from 0.98569 to 0.98894, saving model to mnist_cnn.hdf5\n",
      "Epoch 26/100\n",
      "3074/3074 [==============================] - 3s 895us/step - loss: 0.0391 - accuracy: 0.9886\n",
      "\n",
      "Epoch 00026: accuracy did not improve from 0.98894\n",
      "Epoch 27/100\n",
      "3074/3074 [==============================] - 3s 865us/step - loss: 0.0296 - accuracy: 0.9922\n",
      "\n",
      "Epoch 00027: accuracy improved from 0.98894 to 0.99219, saving model to mnist_cnn.hdf5\n",
      "Epoch 28/100\n",
      "3074/3074 [==============================] - 3s 972us/step - loss: 0.0239 - accuracy: 0.9961\n",
      "\n",
      "Epoch 00028: accuracy improved from 0.99219 to 0.99610, saving model to mnist_cnn.hdf5\n",
      "Epoch 29/100\n",
      "3074/3074 [==============================] - 3s 916us/step - loss: 0.0315 - accuracy: 0.9906\n",
      "\n",
      "Epoch 00029: accuracy did not improve from 0.99610\n",
      "Epoch 30/100\n",
      "3074/3074 [==============================] - 2s 809us/step - loss: 0.0310 - accuracy: 0.9896\n",
      "\n",
      "Epoch 00030: accuracy did not improve from 0.99610\n",
      "Epoch 31/100\n",
      "3074/3074 [==============================] - 3s 923us/step - loss: 0.0470 - accuracy: 0.9847\n",
      "\n",
      "Epoch 00031: accuracy did not improve from 0.99610\n",
      "Epoch 32/100\n",
      "3074/3074 [==============================] - 3s 898us/step - loss: 0.0453 - accuracy: 0.9863\n",
      "\n",
      "Epoch 00032: accuracy did not improve from 0.99610\n",
      "Epoch 33/100\n",
      "3074/3074 [==============================] - 2s 761us/step - loss: 0.0245 - accuracy: 0.9945\n",
      "\n",
      "Epoch 00033: accuracy did not improve from 0.99610\n",
      "Epoch 34/100\n",
      "3074/3074 [==============================] - 2s 777us/step - loss: 0.0875 - accuracy: 0.9736\n",
      "\n",
      "Epoch 00034: accuracy did not improve from 0.99610\n",
      "Epoch 35/100\n",
      "3074/3074 [==============================] - 3s 886us/step - loss: 0.0489 - accuracy: 0.9844\n",
      "\n",
      "Epoch 00035: accuracy did not improve from 0.99610\n",
      "Epoch 36/100\n",
      "3074/3074 [==============================] - 2s 775us/step - loss: 0.0320 - accuracy: 0.9906\n",
      "\n",
      "Epoch 00036: accuracy did not improve from 0.99610\n",
      "Epoch 37/100\n",
      "3074/3074 [==============================] - 3s 817us/step - loss: 0.0350 - accuracy: 0.9899\n",
      "\n",
      "Epoch 00037: accuracy did not improve from 0.99610\n",
      "Epoch 38/100\n",
      "3074/3074 [==============================] - 3s 874us/step - loss: 0.0219 - accuracy: 0.9964\n",
      "\n",
      "Epoch 00038: accuracy improved from 0.99610 to 0.99642, saving model to mnist_cnn.hdf5\n",
      "Epoch 39/100\n",
      "3074/3074 [==============================] - 3s 1ms/step - loss: 0.0228 - accuracy: 0.9935\n",
      "\n",
      "Epoch 00039: accuracy did not improve from 0.99642\n",
      "Epoch 40/100\n",
      "3074/3074 [==============================] - 4s 1ms/step - loss: 0.0266 - accuracy: 0.9925\n",
      "\n",
      "Epoch 00040: accuracy did not improve from 0.99642\n",
      "Epoch 41/100\n",
      "3074/3074 [==============================] - 3s 935us/step - loss: 0.0192 - accuracy: 0.9948\n",
      "\n",
      "Epoch 00041: accuracy did not improve from 0.99642\n",
      "Epoch 42/100\n",
      "3074/3074 [==============================] - 2s 786us/step - loss: 0.0190 - accuracy: 0.9945\n",
      "\n",
      "Epoch 00042: accuracy did not improve from 0.99642\n",
      "Epoch 43/100\n",
      "3074/3074 [==============================] - 3s 842us/step - loss: 0.0180 - accuracy: 0.9948\n",
      "\n",
      "Epoch 00043: accuracy did not improve from 0.99642\n",
      "Epoch 44/100\n",
      "3074/3074 [==============================] - 3s 841us/step - loss: 0.0142 - accuracy: 0.9971\n",
      "\n",
      "Epoch 00044: accuracy improved from 0.99642 to 0.99707, saving model to mnist_cnn.hdf5\n",
      "Epoch 45/100\n",
      "3074/3074 [==============================] - 3s 853us/step - loss: 0.0143 - accuracy: 0.9964\n",
      "\n",
      "Epoch 00045: accuracy did not improve from 0.99707\n",
      "Epoch 46/100\n"
     ]
    },
    {
     "name": "stdout",
     "output_type": "stream",
     "text": [
      "3074/3074 [==============================] - 3s 839us/step - loss: 0.0139 - accuracy: 0.9971\n",
      "\n",
      "Epoch 00046: accuracy did not improve from 0.99707\n",
      "Epoch 47/100\n",
      "3074/3074 [==============================] - 2s 741us/step - loss: 0.0130 - accuracy: 0.9974\n",
      "\n",
      "Epoch 00047: accuracy improved from 0.99707 to 0.99740, saving model to mnist_cnn.hdf5\n",
      "Epoch 48/100\n",
      "3074/3074 [==============================] - 3s 910us/step - loss: 0.0179 - accuracy: 0.9932\n",
      "\n",
      "Epoch 00048: accuracy did not improve from 0.99740\n",
      "Epoch 49/100\n",
      "3074/3074 [==============================] - 3s 1ms/step - loss: 0.0180 - accuracy: 0.9935\n",
      "\n",
      "Epoch 00049: accuracy did not improve from 0.99740\n",
      "Epoch 50/100\n",
      "3074/3074 [==============================] - 3s 1ms/step - loss: 0.0188 - accuracy: 0.9948\n",
      "\n",
      "Epoch 00050: accuracy did not improve from 0.99740\n",
      "Epoch 51/100\n",
      "3074/3074 [==============================] - 3s 868us/step - loss: 0.0171 - accuracy: 0.9964\n",
      "\n",
      "Epoch 00051: accuracy did not improve from 0.99740\n",
      "Epoch 52/100\n",
      "3074/3074 [==============================] - 2s 811us/step - loss: 0.0145 - accuracy: 0.9951\n",
      "\n",
      "Epoch 00052: accuracy did not improve from 0.99740\n",
      "Epoch 53/100\n",
      "3074/3074 [==============================] - 2s 769us/step - loss: 0.0156 - accuracy: 0.9945\n",
      "\n",
      "Epoch 00053: accuracy did not improve from 0.99740\n",
      "Epoch 54/100\n",
      "3074/3074 [==============================] - 3s 864us/step - loss: 0.0124 - accuracy: 0.9977\n",
      "\n",
      "Epoch 00054: accuracy improved from 0.99740 to 0.99772, saving model to mnist_cnn.hdf5\n",
      "Epoch 55/100\n",
      "3074/3074 [==============================] - 2s 760us/step - loss: 0.0151 - accuracy: 0.9964\n",
      "\n",
      "Epoch 00055: accuracy did not improve from 0.99772\n",
      "Epoch 56/100\n",
      "3074/3074 [==============================] - 4s 1ms/step - loss: 0.0164 - accuracy: 0.9948\n",
      "\n",
      "Epoch 00056: accuracy did not improve from 0.99772\n",
      "Epoch 57/100\n",
      "3074/3074 [==============================] - 3s 949us/step - loss: 0.0104 - accuracy: 0.9977\n",
      "\n",
      "Epoch 00057: accuracy did not improve from 0.99772\n",
      "Epoch 58/100\n",
      "3074/3074 [==============================] - 3s 818us/step - loss: 0.0161 - accuracy: 0.9948\n",
      "\n",
      "Epoch 00058: accuracy did not improve from 0.99772\n",
      "Epoch 59/100\n",
      "3074/3074 [==============================] - 3s 903us/step - loss: 0.0162 - accuracy: 0.9945\n",
      "\n",
      "Epoch 00059: accuracy did not improve from 0.99772\n",
      "Epoch 60/100\n",
      "3074/3074 [==============================] - 2s 771us/step - loss: 0.0115 - accuracy: 0.9958\n",
      "\n",
      "Epoch 00060: accuracy did not improve from 0.99772\n",
      "Epoch 61/100\n",
      "3074/3074 [==============================] - 2s 799us/step - loss: 0.0331 - accuracy: 0.9902\n",
      "\n",
      "Epoch 00061: accuracy did not improve from 0.99772\n",
      "Epoch 62/100\n",
      "3074/3074 [==============================] - 2s 810us/step - loss: 0.0258 - accuracy: 0.9922\n",
      "\n",
      "Epoch 00062: accuracy did not improve from 0.99772\n",
      "Epoch 63/100\n",
      "3074/3074 [==============================] - 2s 728us/step - loss: 0.0247 - accuracy: 0.9928\n",
      "\n",
      "Epoch 00063: accuracy did not improve from 0.99772\n",
      "Epoch 64/100\n",
      "3074/3074 [==============================] - 3s 893us/step - loss: 0.0189 - accuracy: 0.9958\n",
      "\n",
      "Epoch 00064: accuracy did not improve from 0.99772\n",
      "Epoch 65/100\n",
      "3074/3074 [==============================] - 3s 962us/step - loss: 0.0189 - accuracy: 0.9951\n",
      "\n",
      "Epoch 00065: accuracy did not improve from 0.99772\n",
      "Epoch 66/100\n",
      "3074/3074 [==============================] - 3s 981us/step - loss: 0.0133 - accuracy: 0.9958\n",
      "\n",
      "Epoch 00066: accuracy did not improve from 0.99772\n",
      "Epoch 67/100\n",
      "3074/3074 [==============================] - 3s 997us/step - loss: 0.0164 - accuracy: 0.9948\n",
      "\n",
      "Epoch 00067: accuracy did not improve from 0.99772\n",
      "Epoch 68/100\n",
      "3074/3074 [==============================] - 3s 823us/step - loss: 0.0134 - accuracy: 0.9945\n",
      "\n",
      "Epoch 00068: accuracy did not improve from 0.99772\n",
      "Epoch 69/100\n",
      "3074/3074 [==============================] - 2s 737us/step - loss: 0.0133 - accuracy: 0.9964\n",
      "\n",
      "Epoch 00069: accuracy did not improve from 0.99772\n",
      "Epoch 70/100\n",
      "3074/3074 [==============================] - 3s 865us/step - loss: 0.0132 - accuracy: 0.9971\n",
      "\n",
      "Epoch 00070: accuracy did not improve from 0.99772\n",
      "Epoch 71/100\n",
      "3074/3074 [==============================] - 3s 883us/step - loss: 0.0120 - accuracy: 0.9967\n",
      "\n",
      "Epoch 00071: accuracy did not improve from 0.99772\n",
      "Epoch 72/100\n",
      "3074/3074 [==============================] - 3s 875us/step - loss: 0.0124 - accuracy: 0.9967\n",
      "\n",
      "Epoch 00072: accuracy did not improve from 0.99772\n",
      "Epoch 73/100\n",
      "3074/3074 [==============================] - 2s 801us/step - loss: 0.0135 - accuracy: 0.9958\n",
      "\n",
      "Epoch 00073: accuracy did not improve from 0.99772\n",
      "Epoch 74/100\n",
      "3074/3074 [==============================] - 2s 799us/step - loss: 0.0113 - accuracy: 0.9971\n",
      "\n",
      "Epoch 00074: accuracy did not improve from 0.99772\n",
      "Epoch 75/100\n",
      "3074/3074 [==============================] - 3s 903us/step - loss: 0.0068 - accuracy: 0.9987\n",
      "\n",
      "Epoch 00075: accuracy improved from 0.99772 to 0.99870, saving model to mnist_cnn.hdf5\n",
      "Epoch 76/100\n",
      "3074/3074 [==============================] - 2s 809us/step - loss: 0.0088 - accuracy: 0.9974\n",
      "\n",
      "Epoch 00076: accuracy did not improve from 0.99870\n",
      "Epoch 77/100\n",
      "3074/3074 [==============================] - 2s 804us/step - loss: 0.0102 - accuracy: 0.9974\n",
      "\n",
      "Epoch 00077: accuracy did not improve from 0.99870\n",
      "Epoch 78/100\n",
      "3074/3074 [==============================] - 3s 861us/step - loss: 0.0110 - accuracy: 0.9971\n",
      "\n",
      "Epoch 00078: accuracy did not improve from 0.99870\n",
      "Epoch 79/100\n",
      "3074/3074 [==============================] - 3s 875us/step - loss: 0.0117 - accuracy: 0.9967\n",
      "\n",
      "Epoch 00079: accuracy did not improve from 0.99870\n",
      "Epoch 80/100\n",
      "3074/3074 [==============================] - 2s 801us/step - loss: 0.0098 - accuracy: 0.9967\n",
      "\n",
      "Epoch 00080: accuracy did not improve from 0.99870\n",
      "Epoch 81/100\n",
      "3074/3074 [==============================] - 2s 748us/step - loss: 0.0105 - accuracy: 0.9977\n",
      "\n",
      "Epoch 00081: accuracy did not improve from 0.99870\n",
      "Epoch 82/100\n",
      "3074/3074 [==============================] - 2s 726us/step - loss: 0.0102 - accuracy: 0.9964\n",
      "\n",
      "Epoch 00082: accuracy did not improve from 0.99870\n",
      "Epoch 83/100\n",
      "3074/3074 [==============================] - 2s 725us/step - loss: 0.0124 - accuracy: 0.9964\n",
      "\n",
      "Epoch 00083: accuracy did not improve from 0.99870\n",
      "Epoch 84/100\n",
      "3074/3074 [==============================] - 2s 723us/step - loss: 0.0117 - accuracy: 0.9964\n",
      "\n",
      "Epoch 00084: accuracy did not improve from 0.99870\n",
      "Epoch 85/100\n",
      "3074/3074 [==============================] - 2s 715us/step - loss: 0.0080 - accuracy: 0.9974\n",
      "\n",
      "Epoch 00085: accuracy did not improve from 0.99870\n",
      "Epoch 86/100\n",
      "3074/3074 [==============================] - 2s 698us/step - loss: 0.0116 - accuracy: 0.9964\n",
      "\n",
      "Epoch 00086: accuracy did not improve from 0.99870\n",
      "Epoch 87/100\n",
      "3074/3074 [==============================] - 2s 698us/step - loss: 0.0111 - accuracy: 0.9961\n",
      "\n",
      "Epoch 00087: accuracy did not improve from 0.99870\n",
      "Epoch 88/100\n",
      "3074/3074 [==============================] - 2s 698us/step - loss: 0.0071 - accuracy: 0.9984\n",
      "\n",
      "Epoch 00088: accuracy did not improve from 0.99870\n",
      "Epoch 89/100\n",
      "3074/3074 [==============================] - 2s 695us/step - loss: 0.0106 - accuracy: 0.9964\n",
      "\n",
      "Epoch 00089: accuracy did not improve from 0.99870\n",
      "Epoch 90/100\n",
      "3074/3074 [==============================] - 2s 697us/step - loss: 0.0112 - accuracy: 0.9980\n",
      "\n",
      "Epoch 00090: accuracy did not improve from 0.99870\n",
      "Epoch 91/100\n",
      "3074/3074 [==============================] - 2s 694us/step - loss: 0.0079 - accuracy: 0.9974\n",
      "\n",
      "Epoch 00091: accuracy did not improve from 0.99870\n",
      "Epoch 92/100\n",
      "3074/3074 [==============================] - 2s 698us/step - loss: 0.0080 - accuracy: 0.9980\n",
      "\n",
      "Epoch 00092: accuracy did not improve from 0.99870\n",
      "Epoch 93/100\n",
      "3074/3074 [==============================] - 2s 699us/step - loss: 0.0072 - accuracy: 0.9980\n",
      "\n",
      "Epoch 00093: accuracy did not improve from 0.99870\n",
      "Epoch 94/100\n",
      "3074/3074 [==============================] - 2s 701us/step - loss: 0.0072 - accuracy: 0.9980\n",
      "\n",
      "Epoch 00094: accuracy did not improve from 0.99870\n",
      "Epoch 95/100\n",
      "3074/3074 [==============================] - 2s 711us/step - loss: 0.0040 - accuracy: 0.9993\n",
      "\n",
      "Epoch 00095: accuracy improved from 0.99870 to 0.99935, saving model to mnist_cnn.hdf5\n",
      "Epoch 96/100\n",
      "3074/3074 [==============================] - 2s 706us/step - loss: 0.0060 - accuracy: 0.9987\n",
      "\n",
      "Epoch 00096: accuracy did not improve from 0.99935\n",
      "Epoch 97/100\n"
     ]
    },
    {
     "name": "stdout",
     "output_type": "stream",
     "text": [
      "3074/3074 [==============================] - 2s 685us/step - loss: 0.0061 - accuracy: 0.9977\n",
      "\n",
      "Epoch 00097: accuracy did not improve from 0.99935\n",
      "Epoch 98/100\n",
      "3074/3074 [==============================] - 2s 691us/step - loss: 0.0064 - accuracy: 0.9987\n",
      "\n",
      "Epoch 00098: accuracy did not improve from 0.99935\n",
      "Epoch 99/100\n",
      "3074/3074 [==============================] - 2s 683us/step - loss: 0.0083 - accuracy: 0.9967\n",
      "\n",
      "Epoch 00099: accuracy did not improve from 0.99935\n",
      "Epoch 100/100\n",
      "3074/3074 [==============================] - 2s 682us/step - loss: 0.1740 - accuracy: 0.9528\n",
      "\n",
      "Epoch 00100: accuracy did not improve from 0.99935\n"
     ]
    }
   ],
   "source": [
    "history = model.fit(x=Xtrain, y=ytrain, batch_size=256, epochs=100, callbacks=callbacks_list)"
   ]
  },
  {
   "cell_type": "markdown",
   "metadata": {},
   "source": [
    "L2 = 3\n",
    "X,pca = applyPCA(X,numComponents=L2)\n",
    "X, y = createImageCubes(X, y, windowSize=windowSize)\n",
    "Xtrain, Xtest, ytrain, ytest = splitTrainTestSet(X, y, test_ratio)\n",
    "Xtrain = Xtrain.reshape(-1, windowSize, windowSize, L2, 1)\n",
    "ytrain = np_utils.to_categorical(ytrain)\n",
    "input_layer_resnet = Input((S, S, L2))\n",
    "model1 = keras.applications.resnet.ResNet50(include_top=False, weights='imagenet', input_tensor=input_layer_resnet, input_shape=(S, S, L), pooling=None, classes=16)"
   ]
  },
  {
   "cell_type": "code",
   "execution_count": 47,
   "metadata": {},
   "outputs": [
    {
     "data": {
      "image/png": "[encoded data removed]",
      "text/plain": [
       "<Figure size 504x504 with 1 Axes>"
      ]
     },
     "metadata": {
      "needs_background": "light"
     },
     "output_type": "display_data"
    }
   ],
   "source": [
    "plt.figure(figsize=(7,7))\n",
    "plt.grid()\n",
    "plt.plot(history.history['loss'])\n",
    "#plt.plot(history.history['val_loss'])\n",
    "plt.ylabel('Loss')\n",
    "plt.xlabel('Epochs')\n",
    "plt.legend(['Training','Validation'], loc='upper right')\n",
    "plt.savefig(\"loss_curve.pdf\")\n",
    "plt.show()"
   ]
  },
  {
   "cell_type": "code",
   "execution_count": 48,
   "metadata": {},
   "outputs": [
    {
     "data": {
      "image/png": "[encoded data removed]",
      "text/plain": [
       "<Figure size 360x360 with 1 Axes>"
      ]
     },
     "metadata": {
      "needs_background": "light"
     },
     "output_type": "display_data"
    }
   ],
   "source": [
    "plt.figure(figsize=(5,5))\n",
    "plt.ylim(0,1.1)\n",
    "plt.grid()\n",
    "plt.plot(history.history['accuracy'])\n",
    "#plt.plot(history.history['val_acc'])\n",
    "plt.ylabel('Accuracy')\n",
    "plt.xlabel('Epochs')\n",
    "plt.legend(['Training','Validation'])\n",
    "plt.savefig(\"acc_curve.pdf\")\n",
    "plt.show()"
   ]
  },
  {
   "cell_type": "markdown",
   "metadata": {},
   "source": [
    "# Validation"
   ]
  },
  {
   "cell_type": "code",
   "execution_count": 49,
   "metadata": {},
   "outputs": [],
   "source": [
    "# load best weights\n",
    "model.load_weights(\"mnist_cnn.hdf5\")\n",
    "model.compile(loss='categorical_crossentropy', optimizer=adam, metrics=['accuracy'])"
   ]
  },
  {
   "cell_type": "markdown",
   "metadata": {},
   "source": [
    "Xtest = Xtest.reshape(-1, windowSize, windowSize, K, 1)\n",
    "Xtest.shape"
   ]
  },
  {
   "cell_type": "code",
   "execution_count": 51,
   "metadata": {},
   "outputs": [
    {
     "data": {
      "text/plain": [
       "(7175, 16)"
      ]
     },
     "execution_count": 51,
     "metadata": {},
     "output_type": "execute_result"
    }
   ],
   "source": [
    "ytest = np_utils.to_categorical(ytest)\n",
    "ytest.shape"
   ]
  },
  {
   "cell_type": "code",
   "execution_count": 52,
   "metadata": {},
   "outputs": [
    {
     "name": "stdout",
     "output_type": "stream",
     "text": [
      "              precision    recall  f1-score   support\n",
      "\n",
      "           0       1.00      1.00      1.00        32\n",
      "           1       0.98      1.00      0.99      1000\n",
      "           2       1.00      0.99      0.99       581\n",
      "           3       1.00      0.99      1.00       166\n",
      "           4       1.00      0.99      1.00       338\n",
      "           5       0.99      1.00      1.00       511\n",
      "           6       1.00      1.00      1.00        20\n",
      "           7       1.00      1.00      1.00       335\n",
      "           8       1.00      1.00      1.00        14\n",
      "           9       1.00      1.00      1.00       680\n",
      "          10       1.00      1.00      1.00      1719\n",
      "          11       1.00      0.98      0.99       415\n",
      "          12       1.00      1.00      1.00       143\n",
      "          13       1.00      1.00      1.00       886\n",
      "          14       1.00      1.00      1.00       270\n",
      "          15       0.98      1.00      0.99        65\n",
      "\n",
      "    accuracy                           1.00      7175\n",
      "   macro avg       1.00      1.00      1.00      7175\n",
      "weighted avg       1.00      1.00      1.00      7175\n",
      "\n"
     ]
    }
   ],
   "source": [
    "Y_pred_test = model.predict(Xtest)\n",
    "y_pred_test = np.argmax(Y_pred_test, axis=1)\n",
    "\n",
    "classification = classification_report(np.argmax(ytest, axis=1), y_pred_test)\n",
    "print(classification)"
   ]
  },
  {
   "cell_type": "code",
   "execution_count": 53,
   "metadata": {},
   "outputs": [],
   "source": [
    "def AA_andEachClassAccuracy(confusion_matrix):\n",
    "    counter = confusion_matrix.shape[0]\n",
    "    list_diag = np.diag(confusion_matrix)\n",
    "    list_raw_sum = np.sum(confusion_matrix, axis=1)\n",
    "    each_acc = np.nan_to_num(truediv(list_diag, list_raw_sum))\n",
    "    average_acc = np.mean(each_acc)\n",
    "    return each_acc, average_acc"
   ]
  },
  {
   "cell_type": "code",
   "execution_count": 54,
   "metadata": {},
   "outputs": [],
   "source": [
    "def reports (X_test,y_test,name):\n",
    "    #start = time.time()\n",
    "    Y_pred = model.predict(X_test)\n",
    "    y_pred = np.argmax(Y_pred, axis=1)\n",
    "    #end = time.time()\n",
    "    #print(end - start)\n",
    "    if name == 'IP':\n",
    "        target_names = ['Alfalfa', 'Corn-notill', 'Corn-mintill', 'Corn'\n",
    "                        ,'Grass-pasture', 'Grass-trees', 'Grass-pasture-mowed', \n",
    "                        'Hay-windrowed', 'Oats', 'Soybean-notill', 'Soybean-mintill',\n",
    "                        'Soybean-clean', 'Wheat', 'Woods', 'Buildings-Grass-Trees-Drives',\n",
    "                        'Stone-Steel-Towers']\n",
    "    elif name == 'SA':\n",
    "        target_names = ['Brocoli_green_weeds_1','Brocoli_green_weeds_2','Fallow','Fallow_rough_plow','Fallow_smooth',\n",
    "                        'Stubble','Celery','Grapes_untrained','Soil_vinyard_develop','Corn_senesced_green_weeds',\n",
    "                        'Lettuce_romaine_4wk','Lettuce_romaine_5wk','Lettuce_romaine_6wk','Lettuce_romaine_7wk',\n",
    "                        'Vinyard_untrained','Vinyard_vertical_trellis']\n",
    "    elif name == 'PU':\n",
    "        target_names = ['Asphalt','Meadows','Gravel','Trees', 'Painted metal sheets','Bare Soil','Bitumen',\n",
    "                        'Self-Blocking Bricks','Shadows']\n",
    "    \n",
    "    classification = classification_report(np.argmax(y_test, axis=1), y_pred, target_names=target_names)\n",
    "    oa = accuracy_score(np.argmax(y_test, axis=1), y_pred)\n",
    "    confusion = confusion_matrix(np.argmax(y_test, axis=1), y_pred)\n",
    "    each_acc, aa = AA_andEachClassAccuracy(confusion)\n",
    "    kappa = cohen_kappa_score(np.argmax(y_test, axis=1), y_pred)\n",
    "    score = model.evaluate(X_test, y_test, batch_size=32)\n",
    "    Test_Loss =  score[0]*100\n",
    "    Test_accuracy = score[1]*100\n",
    "    \n",
    "    return classification, confusion, Test_Loss, Test_accuracy, oa*100, each_acc*100, aa*100, kappa*100"
   ]
  },
  {
   "cell_type": "code",
   "execution_count": 55,
   "metadata": {},
   "outputs": [
    {
     "name": "stdout",
     "output_type": "stream",
     "text": [
      "7175/7175 [==============================] - 1s 182us/step\n"
     ]
    }
   ],
   "source": [
    "classification, confusion, Test_loss, Test_accuracy, oa, each_acc, aa, kappa = reports(Xtest,ytest,dataset)\n",
    "classification = str(classification)\n",
    "confusion = str(confusion)\n",
    "file_name = \"classification_report.txt\"\n",
    "\n",
    "with open(file_name, 'w') as x_file:\n",
    "    x_file.write('{} Test loss (%)'.format(Test_loss))\n",
    "    x_file.write('\\n')\n",
    "    x_file.write('{} Test accuracy (%)'.format(Test_accuracy))\n",
    "    x_file.write('\\n')\n",
    "    x_file.write('\\n')\n",
    "    x_file.write('{} Kappa accuracy (%)'.format(kappa))\n",
    "    x_file.write('\\n')\n",
    "    x_file.write('{} Overall accuracy (%)'.format(oa))\n",
    "    x_file.write('\\n')\n",
    "    x_file.write('{} Average accuracy (%)'.format(aa))\n",
    "    x_file.write('\\n')\n",
    "    x_file.write('\\n')\n",
    "    x_file.write('{}'.format(classification))\n",
    "    x_file.write('\\n')\n",
    "    x_file.write('{}'.format(confusion))"
   ]
  },
  {
   "cell_type": "code",
   "execution_count": 56,
   "metadata": {},
   "outputs": [],
   "source": [
    "def Patch(data,height_index,width_index):\n",
    "    height_slice = slice(height_index, height_index+PATCH_SIZE)\n",
    "    width_slice = slice(width_index, width_index+PATCH_SIZE)\n",
    "    patch = data[height_slice, width_slice, :]\n",
    "    \n",
    "    return patch"
   ]
  },
  {
   "cell_type": "code",
   "execution_count": 57,
   "metadata": {},
   "outputs": [],
   "source": [
    "# load the original image\n",
    "X, y = loadData(dataset)"
   ]
  },
  {
   "cell_type": "code",
   "execution_count": 58,
   "metadata": {},
   "outputs": [],
   "source": [
    "height = y.shape[0]\n",
    "width = y.shape[1]\n",
    "PATCH_SIZE = windowSize\n",
    "numComponents = K"
   ]
  },
  {
   "cell_type": "code",
   "execution_count": 63,
   "metadata": {},
   "outputs": [],
   "source": [
    "X,pca = applyPCA(X, numComponents=3)"
   ]
  },
  {
   "cell_type": "code",
   "execution_count": 64,
   "metadata": {},
   "outputs": [],
   "source": [
    "X = padWithZeros(X, PATCH_SIZE//2)"
   ]
  },
  {
   "cell_type": "code",
   "execution_count": 65,
   "metadata": {},
   "outputs": [],
   "source": [
    "# calculate the predicted image\n",
    "outputs = np.zeros((height,width))\n",
    "for i in range(height):\n",
    "    for j in range(width):\n",
    "        target = int(y[i,j])\n",
    "        if target == 0 :\n",
    "            continue\n",
    "        else :\n",
    "            image_patch=Patch(X,i,j)\n",
    "            X_test_image = image_patch.reshape(1,image_patch.shape[0],image_patch.shape[1], image_patch.shape[2]).astype('float32')                                   \n",
    "            prediction = (model.predict(X_test_image))\n",
    "            prediction = np.argmax(prediction, axis=1)\n",
    "            outputs[i][j] = prediction+1"
   ]
  },
  {
   "cell_type": "code",
   "execution_count": 66,
   "metadata": {},
   "outputs": [
    {
     "data": {
      "image/png": "[encoded data removed]",
      "text/plain": [
       "<Figure size 504x504 with 1 Axes>"
      ]
     },
     "metadata": {
      "needs_background": "light"
     },
     "output_type": "display_data"
    }
   ],
   "source": [
    "ground_truth = spectral.imshow(classes = y,figsize =(7,7))"
   ]
  },
  {
   "cell_type": "code",
   "execution_count": 67,
   "metadata": {},
   "outputs": [
    {
     "data": {
      "image/png": "[encoded data removed]",
      "text/plain": [
       "<Figure size 504x504 with 1 Axes>"
      ]
     },
     "metadata": {
      "needs_background": "light"
     },
     "output_type": "display_data"
    }
   ],
   "source": [
    "predict_image = spectral.imshow(classes = outputs.astype(int),figsize =(7,7))"
   ]
  },
  {
   "cell_type": "code",
   "execution_count": 69,
   "metadata": {},
   "outputs": [],
   "source": [
    "spectral.save_rgb(\"predictions.jpg\", outputs.astype(int), colors=spectral.spy_colors)"
   ]
  },
  {
   "cell_type": "code",
   "execution_count": 70,
   "metadata": {},
   "outputs": [],
   "source": [
    "spectral.save_rgb(str(dataset)+\"_ground_truth.jpg\", y, colors=spectral.spy_colors)"
   ]
  }
 ],
 "metadata": {
  "kernelspec": {
   "display_name": "Python 3",
   "language": "python",
   "name": "python3"
  },
  "language_info": {
   "codemirror_mode": {
    "name": "ipython",
    "version": 3
   },
   "file_extension": ".py",
   "mimetype": "text/x-python",
   "name": "python",
   "nbconvert_exporter": "python",
   "pygments_lexer": "ipython3",
   "version": "3.7.3"
  }
 },
 "nbformat": 4,
 "nbformat_minor": 2
}
